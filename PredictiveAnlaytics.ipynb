{
 "cells": [
  {
   "cell_type": "markdown",
   "metadata": {},
   "source": [
    "### Analysis"
   ]
  },
  {
   "cell_type": "code",
   "execution_count": 64,
   "metadata": {},
   "outputs": [],
   "source": [
    "import pandas as pd\n",
    "import numpy as np\n",
    "import sklearn.datasets as skd\n",
    "import scipy.stats as st\n",
    "import statsmodels.stats.api as sms\n",
    "import matplotlib.pyplot as plt\n",
    "from scipy.stats.stats import pearsonr\n",
    "\n",
    "mydata= pd.read_csv('/resources/data/Salaries.csv')\n",
    "rank = mydata['rank']\n",
    "discipline = mydata['discipline']\n",
    "service = mydata['yrs.service']\n",
    "yrs = mydata['yrs.since.phd']\n",
    "sex = mydata['sex']\n",
    "salary = mydata['salary']"
   ]
  },
  {
   "cell_type": "code",
   "execution_count": 65,
   "metadata": {},
   "outputs": [
    {
     "data": {
      "text/plain": [
       "'9.1%'"
      ]
     },
     "execution_count": 65,
     "metadata": {},
     "output_type": "execute_result"
    }
   ],
   "source": [
    "#What percentage of records are Assistant Professors with less that 5 years of experience?\n",
    "ap = (rank == 'AsstProf').astype(int)   #Variable that is 1 if assistant professor and 0 otherwise\n",
    "exp5 = (yrs < 5).astype(int)   #Variable that is 1 if less than 5 years of experience and 0 otherwise\n",
    "apexp5 = ap*exp5   #Variable that is 1 if assistant professor with less than 5 years experience and 0 otherwise\n",
    "percent = sum(apexp5)/len(apexp5) \n",
    "percent\n",
    "'{:.1%}'.format(percent)"
   ]
  },
  {
   "cell_type": "code",
   "execution_count": 66,
   "metadata": {},
   "outputs": [
    {
     "name": "stdout",
     "output_type": "stream",
     "text": [
      "MannwhitneyuResult(statistic=5182.5, pvalue=0.00821901039537954) 39 358\n"
     ]
    },
    {
     "data": {
      "image/png": "[encoded data removed]",
      "text/plain": [
       "<Figure size 432x288 with 1 Axes>"
      ]
     },
     "metadata": {
      "needs_background": "light"
     },
     "output_type": "display_data"
    }
   ],
   "source": [
    "#Is there a statistially significant difference between male and female salaries?\n",
    "\n",
    "#Segment salary into male and female sets\n",
    "fsal = []\n",
    "msal= []\n",
    "for i in range(len(salary)):\n",
    "    if sex[i] == 'Female':\n",
    "        fsal.append(salary[i])\n",
    "    elif sex[i] == 'Male':\n",
    "        msal.append(salary[i])\n",
    "\n",
    "#Compare distributions\n",
    "plt.hist(msal)\n",
    "plt.hist(fsal)\n",
    "plt.title(\"Distribution of Salary by Gender\")\n",
    "plt.xlabel('Salary')\n",
    "plt.ylabel('Frequency')\n",
    "plt.legend([\"Male\",\"Female\"],fancybox=True)\n",
    "plt.savefig(\"figure1.png\", transparent = True)\n",
    "\n",
    "#From the plot, male salaries may be modeled by a lognormal distribution.\n",
    "#Distribution of female salaries is less apparent, but this may be due to a smaller sample size.\n",
    "#A Mann-Whitney U-Test is appropriate in this case, as precise distributions are unkown sample sizes are greater than 20.\n",
    "\n",
    "#Run a Mann-Whitney U-Test\n",
    "#Null: No difference between male and female salaries\n",
    "#Alternative: Difference between male and female salaries\n",
    "mwu = st.mannwhitneyu(fsal,msal, use_continuity = False, alternative = 'two-sided')\n",
    "print(mwu, len(fsal),len(msal))\n"
   ]
  },
  {
   "cell_type": "code",
   "execution_count": 67,
   "metadata": {},
   "outputs": [
    {
     "data": {
      "image/png": "[encoded data removed]",
      "text/plain": [
       "<Figure size 432x288 with 6 Axes>"
      ]
     },
     "metadata": {
      "needs_background": "light"
     },
     "output_type": "display_data"
    }
   ],
   "source": [
    "#What is the distribution of salary by rank and discipline?\n",
    "\n",
    "#Define a function to remove specified values from a list\n",
    "def removeval(ourlist, val):\n",
    "        while val in ourlist:\n",
    "            ourlist.remove(val)\n",
    "        return ourlist\n",
    "\n",
    "#Create binary variables for each rank and discipline (1 if value, 0 otherwise)\n",
    "theo = (discipline == \"A\").astype(int)\n",
    "app = (discipline == \"B\").astype(int)\n",
    "\n",
    "asst = (rank == \"AsstProf\").astype(int)\n",
    "assoc = (rank == \"AssocProf\").astype(int)\n",
    "prof = (rank == \"Prof\").astype(int)\n",
    "\n",
    "#Plot salaries for theoretical records of each rank\n",
    "a = list(theo*asst*salary/1000)\n",
    "removeval(a,0)\n",
    "plt.subplot(231)\n",
    "plt.hist(a)\n",
    "plt.xticks([min(a),np.mean(a),max(a)])\n",
    "plt.ylabel(\"Theoretical\")\n",
    "plt.title(\"Assistant\")\n",
    "\n",
    "b = list(theo*assoc*round(salary/1000))\n",
    "removeval(b,0)\n",
    "plt.subplot(232)\n",
    "plt.hist(b)\n",
    "plt.xticks([min(b),np.mean(b),max(b)])\n",
    "plt.title(\"Associate\")\n",
    "\n",
    "c = list(theo*prof*salary/1000)\n",
    "removeval(c,0)\n",
    "plt.subplot(233)\n",
    "plt.hist(c)\n",
    "plt.xticks([min(c),np.mean(c),max(c)])\n",
    "plt.title(\"Professor\")\n",
    "\n",
    "#Plot salaries for applied records of each rank\n",
    "d = list(app*asst*salary/1000)\n",
    "removeval(d,0)\n",
    "plt.subplot(234)\n",
    "plt.ylabel(\"Applied\")\n",
    "plt.hist(d)\n",
    "plt.xticks([min(d),np.mean(d),max(d)])\n",
    "\n",
    "e = list(app*assoc*salary/1000)\n",
    "removeval(e,0)\n",
    "plt.subplot(235)\n",
    "plt.hist(e)\n",
    "plt.xticks([min(e),np.mean(e),max(e)])\n",
    "plt.xlabel(\"Salary (in Thousands of Dollars)\")\n",
    "\n",
    "f = list(app*prof*salary/1000)\n",
    "removeval(f,0)\n",
    "plt.subplot(236)\n",
    "plt.hist(f)\n",
    "plt.xticks([min(f),np.mean(f),max(f)])\n",
    "\n",
    "#Minor adjustments to subplot format\n",
    "plt.subplots_adjust(wspace = .3) #Increase space between graphs in each row\n",
    "plt.suptitle('Salary Distributions by Rank and Discipline')\n",
    "plt.savefig(\"figure2.png\", transparent = True)"
   ]
  },
  {
   "cell_type": "code",
   "execution_count": 68,
   "metadata": {},
   "outputs": [
    {
     "data": {
      "text/plain": [
       "0    216\n",
       "1    181\n",
       "Name: discipline, dtype: int64"
      ]
     },
     "execution_count": 68,
     "metadata": {},
     "output_type": "execute_result"
    },
    {
     "data": {
      "image/png": "[encoded data removed]",
      "text/plain": [
       "<Figure size 432x288 with 1 Axes>"
      ]
     },
     "metadata": {
      "needs_background": "light"
     },
     "output_type": "display_data"
    }
   ],
   "source": [
    "#How would you recode discipline as a 0/1 binary indicator\n",
    "bindisc = (discipline == \"A\").astype(int) #Same command as previously\n",
    "\n",
    "#Get a histogram for presentation\n",
    "plt.hist(bindisc, bins = [-.3,.3,.7,1.3], align = 'mid')\n",
    "plt.ylabel('Frequency')\n",
    "plt.xlabel('Discipline')\n",
    "plt.title(\"Distribution of Discipline Types\")\n",
    "plt.xticks([0,1], [\"Applied\",\"Theoretical\"])\n",
    "plt.savefig(\"figure3.png\", transparent = True)\n",
    "\n",
    "#Getting the sample sizes\n",
    "bindisc.value_counts()"
   ]
  },
  {
   "cell_type": "code",
   "execution_count": 69,
   "metadata": {},
   "outputs": [
    {
     "data": {
      "image/png": "[encoded data removed]",
      "text/plain": [
       "<Figure size 720x576 with 2 Axes>"
      ]
     },
     "metadata": {
      "needs_background": "light"
     },
     "output_type": "display_data"
    }
   ],
   "source": [
    "import seaborn as sns\n",
    "#Add variables created in path tasks to the dataframe\n",
    "female = (sex == \"Female\").astype(int)\n",
    "mydata[\"female\"] = female.values\n",
    "mydata[\"theo\"] = theo.values\n",
    "mydata[\"app\"] = app.values\n",
    "mydata[\"assoc\"] = assoc.values\n",
    "mydata[\"asst\"] = asst.values\n",
    "mydata[\"prof\"] = prof.values\n",
    "\n",
    "#Create Correlation Heat Map to check for independence\n",
    "f, ax = plt.subplots(figsize=(10, 8))\n",
    "corr = mydata.corr()\n",
    "sns.heatmap(corr, mask=np.zeros_like(corr, dtype=np.bool), cmap=sns.diverging_palette(220, 10, as_cmap=True),square=True, ax=ax)\n",
    "plt.title(\"Correlation Matrix\", fontsize = 16)\n",
    "plt.savefig(\"figure4.png\", transparent = True)"
   ]
  },
  {
   "cell_type": "markdown",
   "metadata": {},
   "source": [
    "### Model Building"
   ]
  },
  {
   "cell_type": "code",
   "execution_count": 79,
   "metadata": {},
   "outputs": [
    {
     "name": "stdout",
     "output_type": "stream",
     "text": [
      "                            OLS Regression Results                            \n",
      "==============================================================================\n",
      "Dep. Variable:                 salary   R-squared:                       0.448\n",
      "Model:                            OLS   Adj. R-squared:                  0.441\n",
      "Method:                 Least Squares   F-statistic:                     63.41\n",
      "Date:                Wed, 20 Mar 2019   Prob (F-statistic):           2.40e-48\n",
      "Time:                        13:28:28   Log-Likelihood:                -4541.4\n",
      "No. Observations:                 397   AIC:                             9095.\n",
      "Df Residuals:                     391   BIC:                             9119.\n",
      "Df Model:                           5                                         \n",
      "Covariance Type:            nonrobust                                         \n",
      "===============================================================================\n",
      "                  coef    std err          t      P>|t|      [0.025      0.975]\n",
      "-------------------------------------------------------------------------------\n",
      "const         8.66e+04   2960.308     29.252      0.000    8.08e+04    9.24e+04\n",
      "female      -4771.2479   3878.005     -1.230      0.219   -1.24e+04    2853.102\n",
      "yrs.service   -88.7793    111.639     -0.795      0.427    -308.267     130.708\n",
      "theo        -1.347e+04   2315.498     -5.819      0.000    -1.8e+04   -8920.994\n",
      "prof         4.916e+04   3834.485     12.820      0.000    4.16e+04    5.67e+04\n",
      "assoc        1.456e+04   4098.324      3.553      0.000    6502.893    2.26e+04\n",
      "==============================================================================\n",
      "Omnibus:                       56.297   Durbin-Watson:                   1.886\n",
      "Prob(Omnibus):                  0.000   Jarque-Bera (JB):              103.657\n",
      "Skew:                           0.812   Prob(JB):                     3.10e-23\n",
      "Kurtosis:                       4.905   Cond. No.                         107.\n",
      "==============================================================================\n",
      "\n",
      "Warnings:\n",
      "[1] Standard Errors assume that the covariance matrix of the errors is correctly specified.\n",
      "      Regression Model\n",
      "=============================\n",
      "                    Salary   \n",
      "-----------------------------\n",
      "const            86596.29*** \n",
      "                 (2960.31)   \n",
      "female           -4771.25    \n",
      "                 (3878.00)   \n",
      "theo             -13473.38***\n",
      "                 (2315.50)   \n",
      "prof             49159.64*** \n",
      "                 (3834.49)   \n",
      "assoc            14560.40*** \n",
      "                 (4098.32)   \n",
      "yrs.service      -88.78      \n",
      "                 (111.64)    \n",
      "R-squared        0.45        \n",
      "No. observations 397         \n",
      "=============================\n",
      "Standard errors in\n",
      "parentheses.\n",
      "* p<.1, ** p<.05, ***p<.01\n",
      "F statistic 1.6059074605616903 p-value 0.0005425795924094805\n"
     ]
    },
    {
     "data": {
      "image/png": "[encoded data removed]",
      "text/plain": [
       "<Figure size 432x252 with 1 Axes>"
      ]
     },
     "metadata": {
      "needs_background": "light"
     },
     "output_type": "display_data"
    }
   ],
   "source": [
    "from pandas import DataFrame\n",
    "import statsmodels.api as sm\n",
    "from statsmodels.iolib.summary2 import summary_col\n",
    "\n",
    "X = mydata[[\"female\",\"yrs.service\",\"theo\", \"prof\", \"assoc\"]]\n",
    "X = sm.add_constant(X)\n",
    "#mydata[\"salary\"] = np.log(salary)\n",
    "Y = mydata[\"salary\"]\n",
    "model = sm.OLS(Y, X).fit() ## sm.OLS(output, input)\n",
    "predictions = model.predict(X)\n",
    "\n",
    "# Print out the model statistics\n",
    "print(model.summary())\n",
    "\n",
    "#Model statistics again, but I am more familiar with this format\n",
    "info_dict={'R-squared' : lambda x: f\"{x.rsquared:.2f}\",\n",
    "           'No. observations' : lambda x: f\"{int(x.nobs):d}\"}\n",
    "\n",
    "results_table = summary_col(results=[model],\n",
    "                            float_format='%0.2f',\n",
    "                            stars = True,\n",
    "                            model_names=['Salary'],\n",
    "                            info_dict=info_dict,\n",
    "                            regressor_order=['const','female','theo', 'prof', 'assoc'])\n",
    "\n",
    "results_table.add_title('Regression Model')\n",
    "\n",
    "print(results_table) \n",
    "\n",
    "#Checking for homoskedasticity\n",
    "#Goldfeld-Quandt test for homoskedasticity\n",
    "name = ['F statistic', 'p-value']\n",
    "test = sms.het_goldfeldquandt(model.resid, model.model.exog)\n",
    "print(name[0], test[0],name[1],test[1])\n",
    "\n",
    "#Create Residual Plot\n",
    "pred = model.fittedvalues.copy()\n",
    "true = mydata['salary'].values.copy()\n",
    "residual = true - pred\n",
    "\n",
    "fig, ax = plt.subplots(figsize=(6,3.5))\n",
    "_ = ax.scatter(pred,residual)\n",
    "plt.title(\"Residual Plot\")\n",
    "plt.ylabel(\"Residuals\")\n",
    "plt.xlabel(\"Fitted Salary\")\n",
    "plt.savefig(\"figure5.png\", transparent = True)"
   ]
  },
  {
   "cell_type": "code",
   "execution_count": 77,
   "metadata": {},
   "outputs": [
    {
     "name": "stdout",
     "output_type": "stream",
     "text": [
      "107300.0\n"
     ]
    }
   ],
   "source": [
    "#Find median salary\n",
    "medsal = np.median(salary)\n",
    "print(medsal)\n",
    "\n",
    "#Binary salary variable\n",
    "overmedsal = (salary > medsal).astype(int)\n",
    "\n",
    "#Add to data frame\n",
    "mydata[\"overmedsal\"] = overmedsal.values"
   ]
  },
  {
   "cell_type": "code",
   "execution_count": 39,
   "metadata": {},
   "outputs": [
    {
     "name": "stderr",
     "output_type": "stream",
     "text": [
      "/home/jupyterlab/conda/lib/python3.6/site-packages/numpy/core/fromnumeric.py:2223: FutureWarning: Method .ptp is deprecated and will be removed in a future version. Use numpy.ptp instead.\n",
      "  return ptp(axis=axis, out=out, **kwargs)\n",
      "/home/jupyterlab/conda/lib/python3.6/site-packages/sklearn/linear_model/logistic.py:433: FutureWarning: Default solver will be changed to 'lbfgs' in 0.22. Specify a solver to silence this warning.\n",
      "  FutureWarning)\n"
     ]
    },
    {
     "data": {
      "text/plain": [
       "(array([[-1.11425895,  0.0691296 , -1.01003536,  3.64201263,  0.37640146]]),\n",
       " 0.7934508816120907)"
      ]
     },
     "execution_count": 39,
     "metadata": {},
     "output_type": "execute_result"
    }
   ],
   "source": [
    "from sklearn.linear_model import LogisticRegression\n",
    "from sklearn.metrics import accuracy_score \n",
    "X = mydata[[\"female\",\"theo\",\"prof\",\"assoc\"]]\n",
    "X = sm.add_constant(X)\n",
    "Y = mydata[\"overmedsal\"]\n",
    "model = LogisticRegression()\n",
    "model.fit(X, Y)\n",
    "\n",
    "predicted_classes = model.predict(X)\n",
    "accuracy = accuracy_score(Y,predicted_classes)\n",
    "parameters = model.coef_\n",
    "parameters, accuracy"
   ]
  }
 ],
 "metadata": {
  "kernelspec": {
   "display_name": "Python 3",
   "language": "python",
   "name": "python3"
  },
  "language_info": {
   "codemirror_mode": {
    "name": "ipython",
    "version": 3
   },
   "file_extension": ".py",
   "mimetype": "text/x-python",
   "name": "python",
   "nbconvert_exporter": "python",
   "pygments_lexer": "ipython3",
   "version": "3.6.8"
  }
 },
 "nbformat": 4,
 "nbformat_minor": 2
}
